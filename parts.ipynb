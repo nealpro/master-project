{
 "cells": [
  {
   "cell_type": "code",
   "execution_count": null,
   "metadata": {},
   "outputs": [],
   "source": [
    "#!/usr/bin/env python3\n",
    "import RPi.GPIO as GPIO\n",
    "\n",
    "BtnPin = 11\n",
    "\n",
    "def setup():\n",
    "    GPIO.setmode(GPIO.BOARD)       # Numbers GPIOs by physical location\n",
    "    GPIO.setup(BtnPin, GPIO.IN, pull_up_down=GPIO.PUD_UP)    # Set BtnPin's mode is input, and pull up to high level(3.3V)\n",
    "    GPIO.add_event_detect(BtnPin, GPIO.BOTH, callback=detect, bouncetime=200)\n",
    "\n",
    "def func(x):\n",
    "    if x == 0:\n",
    "        # off\n",
    "        pass\n",
    "    if x == 1:\n",
    "        # on\n",
    "        pass\n",
    "\n",
    "def detect(chn):\n",
    "    func(GPIO.input(BtnPin))\n",
    "\n",
    "def loop():\n",
    "    while True:\n",
    "        pass\n",
    "\n",
    "def destroy():\n",
    "    GPIO.cleanup()\n",
    "\n",
    "if __name__ == '__main__':     # Program start from here\n",
    "    setup()\n",
    "    try:\n",
    "        loop()\n",
    "    except KeyboardInterrupt:  # When 'Ctrl+C' is pressed, the child program destroy() will be  executed.\n",
    "        destroy()"
   ]
  },
  {
   "cell_type": "code",
   "execution_count": null,
   "metadata": {},
   "outputs": [],
   "source": []
  }
 ],
 "metadata": {
  "language_info": {
   "name": "python"
  }
 },
 "nbformat": 4,
 "nbformat_minor": 2
}
